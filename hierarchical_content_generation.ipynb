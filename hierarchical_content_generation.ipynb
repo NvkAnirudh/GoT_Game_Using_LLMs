{
 "cells": [
  {
   "cell_type": "markdown",
   "metadata": {},
   "source": [
    "# Creating a World"
   ]
  },
  {
   "cell_type": "code",
   "execution_count": 14,
   "metadata": {},
   "outputs": [],
   "source": [
    "system_prompt = f\"\"\"\n",
    "Your job is to help create an immersive Game of Thrones-inspired world that players would love to explore.\n",
    "Instructions:\n",
    "- Only generate in plain text without formatting.\n",
    "- Use simple clear language without being flowery.\n",
    "- You must stay below 3-5 sentences for each description.\n",
    "\"\"\""
   ]
  },
  {
   "cell_type": "code",
   "execution_count": 15,
   "metadata": {},
   "outputs": [],
   "source": [
    "world_prompt = f\"\"\"\n",
    "Generate a creative description for a unique Game of Thrones-inspired world with an interesting concept around cities built on the backs of massive dragons or other legendary creatures from Westeros.\n",
    "Output content in the form:\n",
    "World Name: <WORLD NAME>\n",
    "World Description: <WORLD DESCRIPTION>\n",
    "\n",
    "World Name:\"\"\"\n"
   ]
  },
  {
   "cell_type": "code",
   "execution_count": 16,
   "metadata": {},
   "outputs": [],
   "source": [
    "from together import Together\n",
    "from helper import get_together_api_key\n",
    "\n",
    "client = Together(api_key=get_together_api_key())\n",
    "\n",
    "output = client.chat.completions.create(\n",
    "    model='meta-llama/Llama-3-70b-chat-hf',\n",
    "    messages = [\n",
    "        {'role':'system', 'content':system_prompt},\n",
    "        {'role':'user', 'content':world_prompt}\n",
    "    ]\n",
    ")"
   ]
  },
  {
   "cell_type": "code",
   "execution_count": 17,
   "metadata": {},
   "outputs": [
    {
     "name": "stdout",
     "output_type": "stream",
     "text": [
      "Drakonaria\n",
      "\n",
      "World Description: In the realm of Drakonaria, the ancient dragons of Westeros did not fade into myth, but instead evolved to become the very foundations of civilization. Over time, cities were built upon the backs of these gargantuan creatures, their scales glistening like armor as they roam the land. The people of Drakonaria live in symbiosis with their dragon hosts, harnessing their power to fuel magic and innovation.\n"
     ]
    }
   ],
   "source": [
    "world_output = output.choices[0].message.content\n",
    "print(world_output)"
   ]
  },
  {
   "cell_type": "code",
   "execution_count": 18,
   "metadata": {},
   "outputs": [],
   "source": [
    "world_output = world_output.strip()\n",
    "world = {\n",
    "    'name': world_output.split('\\n')[0].strip().replace('World Name: ',''),\n",
    "    'description': '\\n'.join(world_output.split('\\n')[1:])\n",
    "    .replace('World Description:', '').strip()\n",
    "}"
   ]
  },
  {
   "cell_type": "code",
   "execution_count": 19,
   "metadata": {},
   "outputs": [
    {
     "data": {
      "text/plain": [
       "{'name': 'Drakonaria',\n",
       " 'description': 'In the realm of Drakonaria, the ancient dragons of Westeros did not fade into myth, but instead evolved to become the very foundations of civilization. Over time, cities were built upon the backs of these gargantuan creatures, their scales glistening like armor as they roam the land. The people of Drakonaria live in symbiosis with their dragon hosts, harnessing their power to fuel magic and innovation.'}"
      ]
     },
     "execution_count": 19,
     "metadata": {},
     "output_type": "execute_result"
    }
   ],
   "source": [
    "world"
   ]
  },
  {
   "cell_type": "markdown",
   "metadata": {},
   "source": [
    "# Generating Kingdoms"
   ]
  },
  {
   "cell_type": "code",
   "execution_count": 20,
   "metadata": {},
   "outputs": [],
   "source": [
    "kingdom_prompt = f\"\"\"\n",
    "Create 3 different kingdoms inspired by the Game of Thrones world. \n",
    "For each kingdom, generate a description based on the world it's in. Describe key leaders, cultures, and \\\n",
    "the history of the kingdom, drawing from the political intrigue, diverse regions, and legendary lore of Westeros.\\\n",
    "\n",
    "Output content in the form:\n",
    "Kingdom 1 Name: <KINGDOM NAME>\n",
    "Kingdom 1 Description: <KINGDOM DESCRIPTION>\n",
    "Kingdom 2 Name: <KINGDOM NAME>\n",
    "Kingdom 2 Description: <KINGDOM DESCRIPTION>\n",
    "Kingdom 3 Name: <KINGDOM NAME>\n",
    "Kingdom 3 Description: <KINGDOM DESCRIPTION>\n",
    "\n",
    "World Name: {world['name']}\n",
    "World Description: {world['description']}\n",
    "\n",
    "Kingdom 1\"\"\""
   ]
  },
  {
   "cell_type": "code",
   "execution_count": 21,
   "metadata": {},
   "outputs": [],
   "source": [
    "output = client.chat.completions.create(\n",
    "    model='meta-llama/Llama-3-70b-chat-hf',\n",
    "    messages = [\n",
    "        {'role':'system', 'content':system_prompt},\n",
    "        {'role':'user', 'content':kingdom_prompt}\n",
    "    ]\n",
    ")"
   ]
  },
  {
   "cell_type": "code",
   "execution_count": 22,
   "metadata": {},
   "outputs": [
    {
     "name": "stdout",
     "output_type": "stream",
     "text": [
      "Kingdom 1 Name: Aerthys\n",
      "Kingdom 1 Description: Aerthys is a kingdom built upon the back of the great dragon, Arkon, who lies dormant beneath the city. The ruling family, the Aerthysians, claim direct descent from the ancient dragon riders and wield powerful magic tied to Arkon's slumber. They govern with wisdom and justice, fostering a culture of discovery and innovation, as the city's scholars and inventors seek to unlock the secrets of their dragon host.\n",
      "\n",
      "Kingdom 2 Name: Kyrogha\n",
      "Kingdom 2 Description: Kyrogha is a dark and foreboding kingdom, built upon the twisted, black-scaled body of the dragon, Khaos. The ruling sorcerers, the Kyroghans, have mastered the dark arts, using Khaos's malevolent power to maintain their grip on the land. They rule with an iron fist, crushing dissent and opposition, as the people of Kyrogha live in fear of their dragon's wrath.\n",
      "\n",
      "Kingdom 3 Name: Elyria\n",
      "Kingdom 3 Description: Elyria is a kingdom of breathtaking beauty, built upon the shimmering, iridescent scales of the dragon, Lyra. The ruling family, the Elyrians, are masters of the mystical arts, using Lyra's power to maintain the delicate balance of nature. They govern with compassion and wisdom, fostering a culture of art, music, and poetry, as the people of Elyria live in harmony with their dragon and the land.\n"
     ]
    }
   ],
   "source": [
    "kingdoms_output = output.choices[0].message.content\n",
    "print(kingdoms_output)"
   ]
  },
  {
   "cell_type": "code",
   "execution_count": 23,
   "metadata": {},
   "outputs": [
    {
     "name": "stdout",
     "output_type": "stream",
     "text": [
      "Created kingdom \"Aerthys\" in Drakonaria\n",
      "Created kingdom \"Kyrogha\" in Drakonaria\n",
      "Created kingdom \"Elyria\" in Drakonaria\n",
      "Created kingdom \"Aerthys\" in Drakonaria\n",
      "Created kingdom \"Kyrogha\" in Drakonaria\n",
      "Created kingdom \"Elyria\" in Drakonaria\n",
      "Created kingdom \"Aerthys\" in Drakonaria\n",
      "Created kingdom \"Kyrogha\" in Drakonaria\n",
      "Created kingdom \"Elyria\" in Drakonaria\n",
      "\n",
      "Kingdom 1 Description: Elyria is a kingdom of breathtaking beauty, built upon the shimmering, iridescent scales of the dragon, Lyra. The ruling family, the Elyrians, are masters of the mystical arts, using Lyra's power to maintain the delicate balance of nature. They govern with compassion and wisdom, fostering a culture of art, music, and poetry, as the people of Elyria live in harmony with their dragon and the land.\n"
     ]
    }
   ],
   "source": [
    "kingdoms = {}\n",
    "for output in kingdoms_output.split('\\n\\n'):\n",
    "    for output in kingdoms_output.split('\\n\\n'):\n",
    "        kingdom_name = output.strip().split('\\n')[0] \\\n",
    "            .split('Name: ')[1].strip()\n",
    "        print(f'Created kingdom \"{kingdom_name}\" in {world[\"name\"]}')\n",
    "        kingdom_description = output.strip().split('\\n')[1] \\\n",
    "            .split('Description: ')[1].strip()\n",
    "        kingdom = {\n",
    "            \"name\": kingdom_name,\n",
    "            \"description\": kingdom_description,\n",
    "            \"world\": world['name']\n",
    "        }\n",
    "        kingdoms[kingdom_name] = kingdom\n",
    "world['kingdoms'] = kingdoms\n",
    "\n",
    "print(f'\\nKingdom 1 Description: \\\n",
    "{kingdom[\"description\"]}')"
   ]
  },
  {
   "cell_type": "markdown",
   "metadata": {},
   "source": [
    "# Generating Towns"
   ]
  },
  {
   "cell_type": "code",
   "execution_count": 30,
   "metadata": {},
   "outputs": [],
   "source": [
    "def get_town_prompt(world, kingdom):\n",
    "    return f\"\"\"\n",
    "    Create 3 different towns inspired by the Game of Thrones world for a fantasy kingdom and world. Describe the region they are in, important places within the town, and intriguing history that aligns with the politics, cultures, or legends of Westeros.\n",
    "    \n",
    "    Output content in the form:\n",
    "    Town 1 Name: <TOWN NAME>\n",
    "    Town 1 Description: <TOWN DESCRIPTION>\n",
    "    Town 2 Name: <TOWN NAME>\n",
    "    Town 2 Description: <TOWN DESCRIPTION>\n",
    "    Town 3 Name: <TOWN NAME>\n",
    "    Town 3 Description: <TOWN DESCRIPTION>\n",
    "    \n",
    "    World Name: {world['name']}\n",
    "    World Description: {world['description']}\n",
    "    \n",
    "    Kingdom Name: {kingdom['name']}\n",
    "    Kingdom Description {kingdom['description']}\n",
    "    \n",
    "    Town 1 Name:\"\"\""
   ]
  },
  {
   "cell_type": "code",
   "execution_count": 31,
   "metadata": {},
   "outputs": [],
   "source": [
    "def create_towns(world, kingdom):\n",
    "    print(f'\\nCreating towns for kingdom: {kingdom[\"name\"]}...')\n",
    "    output = client.chat.completions.create(\n",
    "      model=\"meta-llama/Llama-3-70b-chat-hf\",\n",
    "      messages=[\n",
    "          {\"role\": \"system\", \"content\": system_prompt},\n",
    "          {\"role\": \"user\", \"content\": get_town_prompt(world, kingdom)}\n",
    "      ],\n",
    "  )\n",
    "    towns_output = output.choices[0].message.content\n",
    "    \n",
    "    towns = {}\n",
    "    for output in towns_output.split('\\n\\n'):\n",
    "        town_name = output.strip().split('\\n')[0]\\\n",
    "        .split('Name: ')[1].strip()\n",
    "        print(f'- {town_name} created')\n",
    "        \n",
    "        town_description = output.strip().split('\\n')[1]\\\n",
    "        .split('Description: ')[1].strip()\n",
    "        \n",
    "        town = {\n",
    "          \"name\": town_name,\n",
    "          \"description\": town_description,\n",
    "          \"world\": world['name'],\n",
    "          \"kingdom\": kingdom['name']\n",
    "        }\n",
    "        towns[town_name] = town\n",
    "    kingdom[\"towns\"] = towns"
   ]
  },
  {
   "cell_type": "code",
   "execution_count": 32,
   "metadata": {},
   "outputs": [
    {
     "name": "stdout",
     "output_type": "stream",
     "text": [
      "\n",
      "Creating towns for kingdom: Aerthys...\n",
      "- Emberhaven created\n",
      "- Wyrmwatch created\n",
      "- Ravenhurst created\n",
      "\n",
      "Creating towns for kingdom: Kyrogha...\n",
      "- Shadowhaven created\n",
      "- Emberwatch created\n",
      "- Ravenhurst created\n",
      "\n",
      "Creating towns for kingdom: Elyria...\n",
      "- Eldrida created\n",
      "- Calanthor created\n",
      "- Kyrios created\n",
      "\n",
      "Town 1 Description: Eldrida is a coastal town situated on the western edge of Elyria, where the dragon Lyra's scales meet the crashing waves of the Azure Sea. The town is known for its bustling harbor, where fishermen and traders bring exotic goods from across the realm. The grand Eldridian Lighthouse, built upon a natural outcropping of Lyra's scales, guides ships safely to shore and serves as a beacon of hope for those seeking refuge.\n"
     ]
    }
   ],
   "source": [
    "for kingdom in kingdoms.values():\n",
    "    create_towns(world, kingdom)  \n",
    "\n",
    "town = list(kingdom['towns'].values())[0]\n",
    "print(f'\\nTown 1 Description: \\\n",
    "{town[\"description\"]}')"
   ]
  },
  {
   "cell_type": "code",
   "execution_count": 33,
   "metadata": {},
   "outputs": [],
   "source": [
    "def get_npc_prompt(world, kingdom, town): \n",
    "    return f\"\"\"\n",
    "    Create 3 different characters inspired by the Game of Thrones world, based on the world, kingdom, and town they inhabit. Describe the character's appearance and profession, as well as their deeper pains and desires, reflecting the complex personalities, ambitions, and struggles typical of Westeros.\n",
    "    \n",
    "    Output content in the form:\n",
    "    Character 1 Name: <CHARACTER NAME>\n",
    "    Character 1 Description: <CHARACTER DESCRIPTION>\n",
    "    Character 2 Name: <CHARACTER NAME>\n",
    "    Character 2 Description: <CHARACTER DESCRIPTION>\n",
    "    Character 3 Name: <CHARACTER NAME>\n",
    "    Character 3 Description: <CHARACTER DESCRIPTION>\n",
    "    \n",
    "    World Name: {world['name']}\n",
    "    World Description: {world['description']}\n",
    "    \n",
    "    Kingdom Name: {kingdom['name']}\n",
    "    Kingdom Description: {kingdom['description']}\n",
    "    \n",
    "    Town Name: {town['name']}\n",
    "    Town Description: {town['description']}\n",
    "    \n",
    "    Character 1 Name:\"\"\""
   ]
  },
  {
   "cell_type": "code",
   "execution_count": 34,
   "metadata": {},
   "outputs": [],
   "source": [
    "def create_npcs(world, kingdom, town):\n",
    "    print(f'\\nCreating characters for the town of: {town[\"name\"]}...')\n",
    "    output = client.chat.completions.create(\n",
    "        model=\"meta-llama/Llama-3-70b-chat-hf\",\n",
    "        messages=[\n",
    "            {\"role\": \"system\", \"content\": system_prompt},\n",
    "            {\"role\": \"user\", \"content\": get_npc_prompt(world, kingdom, town)}\n",
    "        ],\n",
    "        temperature=1  #added to generate unique names\n",
    "    )\n",
    "\n",
    "    npcs_output = output.choices[0].message.content\n",
    "    npcs = {}\n",
    "    for output in npcs_output.split('\\n\\n'):\n",
    "        npc_name = output.strip().split('\\n')[0]\\\n",
    "        .split('Name: ')[1].strip()\n",
    "        print(f'- \"{npc_name}\" created')\n",
    "        \n",
    "        npc_description = output.strip().split('\\n')[1\\\n",
    "        ].split('Description: ')[1].strip()\n",
    "        \n",
    "        npc = {\n",
    "        \"name\": npc_name,\n",
    "        \"description\": npc_description,\n",
    "        \"world\": world['name'],\n",
    "        \"kingdom\": kingdom['name'],\n",
    "        \"town\": town['name']\n",
    "        }\n",
    "        npcs[npc_name] = npc\n",
    "    town[\"npcs\"] = npcs"
   ]
  },
  {
   "cell_type": "code",
   "execution_count": 35,
   "metadata": {},
   "outputs": [
    {
     "name": "stdout",
     "output_type": "stream",
     "text": [
      "\n",
      "Creating characters for the town of: Emberhaven...\n",
      "- \"Eira Shadowglow\" created\n",
      "- \"Thrain Blackiron\" created\n",
      "- \"Lyra Moonwhisper\" created\n",
      "\n",
      "Creating characters for the town of: Wyrmwatch...\n",
      "- \"Lyra Aerthys\" created\n",
      "- \"Kael Darkhaven\" created\n",
      "- \"Zephyr Windsong\" created\n",
      "\n",
      "Creating characters for the town of: Ravenhurst...\n",
      "- \"Kaelin Darkhaven\" created\n",
      "- \"Lady Aria Flynn\" created\n",
      "- \"Thrain Stonebeard\" created\n"
     ]
    }
   ],
   "source": [
    "for kingdom in kingdoms.values():\n",
    "    for town in kingdom['towns'].values():\n",
    "        create_npcs(world, kingdom, town)\n",
    "  # For now we'll only generate npcs for one kingdom\n",
    "    break"
   ]
  },
  {
   "cell_type": "code",
   "execution_count": 36,
   "metadata": {},
   "outputs": [
    {
     "name": "stdout",
     "output_type": "stream",
     "text": [
      "\n",
      "NPC 1 in Ravenhurst, Aerthys:\n",
      "Kaelin is a brooding, dark-haired scholar from Ravenhurst, often clad in worn leather and carrying a burden of ancient tomes. As a member of the Raven Brotherhood, he seeks to unravel the secrets of the ancient dragons, hoping to understand the whispers of the forest and the mysteries hidden within the town's ruins. His eyes hold a deep pain, haunted by the loss of his family to the dragon fires that once ravaged the town, and his greatest desire is to unlock the power to protect his people from the dragons they both revere and fear.\n"
     ]
    }
   ],
   "source": [
    "npc = list(town['npcs'].values())[0]\n",
    "\n",
    "print(f'\\nNPC 1 in {town[\"name\"]}, \\\n",
    "{kingdom[\"name\"]}:\\n{npc[\"description\"]}')"
   ]
  },
  {
   "cell_type": "markdown",
   "metadata": {},
   "source": [
    "# Save the World"
   ]
  },
  {
   "cell_type": "code",
   "execution_count": 39,
   "metadata": {},
   "outputs": [],
   "source": [
    "import json\n",
    "\n",
    "def save_world(world, filename):\n",
    "    with open(filename, 'w') as f:\n",
    "        json.dump(world, f)\n",
    "\n",
    "def load_world(filename):\n",
    "    with open(filename, 'r') as f:\n",
    "        return json.load(f)\n",
    "\n",
    "#save_world(world, '../shared_data/Kyropeia.json')\n",
    "save_world(world, './data/Westeros.json') #save to your version"
   ]
  },
  {
   "cell_type": "code",
   "execution_count": null,
   "metadata": {},
   "outputs": [],
   "source": []
  }
 ],
 "metadata": {
  "kernelspec": {
   "display_name": "Python 3",
   "language": "python",
   "name": "python3"
  },
  "language_info": {
   "codemirror_mode": {
    "name": "ipython",
    "version": 3
   },
   "file_extension": ".py",
   "mimetype": "text/x-python",
   "name": "python",
   "nbconvert_exporter": "python",
   "pygments_lexer": "ipython3",
   "version": "3.11.10"
  }
 },
 "nbformat": 4,
 "nbformat_minor": 2
}
