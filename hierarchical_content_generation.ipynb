{
 "cells": [
  {
   "cell_type": "markdown",
   "metadata": {},
   "source": [
    "# Creating a World"
   ]
  },
  {
   "cell_type": "code",
   "execution_count": 78,
   "metadata": {},
   "outputs": [],
   "source": [
    "system_prompt = f\"\"\"\n",
    "Your job is to help create an immersive Game of Thrones-inspired world that players would love to explore.\n",
    "Instructions:\n",
    "- Only generate in plain text without formatting.\n",
    "- Use simple clear language without being flowery.\n",
    "- You must stay below 3-5 sentences for each description.\n",
    "\"\"\""
   ]
  },
  {
   "cell_type": "code",
   "execution_count": 79,
   "metadata": {},
   "outputs": [],
   "source": [
    "world_prompt = f\"\"\"\n",
    "Generate a creative description for a unique Game of Thrones-inspired world with an interesting concept around cities built on the backs of massive dragons or other legendary creatures from Westeros.\n",
    "Output content in the form:\n",
    "World Name: <WORLD NAME>\n",
    "World Description: <WORLD DESCRIPTION>\n",
    "\n",
    "World Name:\"\"\"\n"
   ]
  },
  {
   "cell_type": "code",
   "execution_count": 80,
   "metadata": {},
   "outputs": [],
   "source": [
    "from together import Together\n",
    "from helper import get_together_api_key\n",
    "\n",
    "client = Together(api_key=get_together_api_key())\n",
    "\n",
    "output = client.chat.completions.create(\n",
    "    model='meta-llama/Llama-3-70b-chat-hf',\n",
    "    messages = [\n",
    "        {'role':'system', 'content':system_prompt},\n",
    "        {'role':'user', 'content':world_prompt}\n",
    "    ]\n",
    ")"
   ]
  },
  {
   "cell_type": "code",
   "execution_count": 81,
   "metadata": {},
   "outputs": [
    {
     "name": "stdout",
     "output_type": "stream",
     "text": [
      "Drakonaria\n",
      "\n",
      "World Description: In the realm of Drakonaria, the ancient dragons of Westeros have been awakened from their slumber, and the people have learned to harness their power to build sprawling cities upon their backs. These magnificent creatures roam the land, their scales glistening like diamonds as they carry the weight of civilization. The dragons' movements shape the landscape, creating valleys and mountains as they stride across the continent, while their fiery breath illuminates the night skies.\n"
     ]
    }
   ],
   "source": [
    "world_output = output.choices[0].message.content\n",
    "print(world_output)"
   ]
  },
  {
   "cell_type": "code",
   "execution_count": 82,
   "metadata": {},
   "outputs": [],
   "source": [
    "world_output = world_output.strip()\n",
    "world = {\n",
    "    'name': world_output.split('\\n')[0].strip().replace('World Name: ',''),\n",
    "    'description': '\\n'.join(world_output.split('\\n')[1:])\n",
    "    .replace('World Description:', '').strip()\n",
    "}"
   ]
  },
  {
   "cell_type": "code",
   "execution_count": 83,
   "metadata": {},
   "outputs": [
    {
     "data": {
      "text/plain": [
       "{'name': 'Drakonaria',\n",
       " 'description': \"In the realm of Drakonaria, the ancient dragons of Westeros have been awakened from their slumber, and the people have learned to harness their power to build sprawling cities upon their backs. These magnificent creatures roam the land, their scales glistening like diamonds as they carry the weight of civilization. The dragons' movements shape the landscape, creating valleys and mountains as they stride across the continent, while their fiery breath illuminates the night skies.\"}"
      ]
     },
     "execution_count": 83,
     "metadata": {},
     "output_type": "execute_result"
    }
   ],
   "source": [
    "world"
   ]
  },
  {
   "cell_type": "markdown",
   "metadata": {},
   "source": [
    "# Generating Kingdoms"
   ]
  },
  {
   "cell_type": "code",
   "execution_count": 84,
   "metadata": {},
   "outputs": [],
   "source": [
    "kingdom_prompt = f\"\"\"\n",
    "Create 3 different kingdoms inspired by the Game of Thrones world. \n",
    "For each kingdom, generate a description based on the world it's in. Describe key leaders, cultures, and \\\n",
    "the history of the kingdom, drawing from the political intrigue, diverse regions, and legendary lore of Westeros.\\\n",
    "\n",
    "Output content in the form and no additional text:\n",
    "Kingdom 1 Name: <KINGDOM NAME>\n",
    "Kingdom 1 Description: <KINGDOM DESCRIPTION>\n",
    "Kingdom 2 Name: <KINGDOM NAME>\n",
    "Kingdom 2 Description: <KINGDOM DESCRIPTION>\n",
    "Kingdom 3 Name: <KINGDOM NAME>\n",
    "Kingdom 3 Description: <KINGDOM DESCRIPTION>\n",
    "\n",
    "World Name: {world['name']}\n",
    "World Description: {world['description']}\n",
    "\n",
    "\"\"\""
   ]
  },
  {
   "cell_type": "code",
   "execution_count": 85,
   "metadata": {},
   "outputs": [],
   "source": [
    "output = client.chat.completions.create(\n",
    "    model='meta-llama/Llama-3-70b-chat-hf',\n",
    "    messages = [\n",
    "        {'role':'system', 'content':system_prompt},\n",
    "        {'role':'user', 'content':kingdom_prompt}\n",
    "    ]\n",
    ")"
   ]
  },
  {
   "cell_type": "code",
   "execution_count": 86,
   "metadata": {},
   "outputs": [
    {
     "name": "stdout",
     "output_type": "stream",
     "text": [
      "Kingdom 1 Name: Emberhaven\n",
      "Kingdom 1 Description: Emberhaven is a kingdom built upon the back of the ancient dragon, Tharros the Unyielding. Its people are master craftsmen, harnessing the dragon's fire to forge powerful weapons and armor. Led by the wise and just King Arin the Bold, Emberhaven is a beacon of hope in a world of turmoil, its capital city shining like a star in the night.\n",
      "\n",
      "Kingdom 2 Name: Kyrovia\n",
      "Kingdom 2 Description: Kyrovia is a mystical realm, nestled within the misty valleys created by the dragon, Lyra the Whispering. Its people are attuned to the ancient magic that permeates the land, and are skilled in the arcane arts. Queen Lirien the Enigmatic rules Kyrovia with a subtle hand, her wisdom and power shrouded in mystery.\n",
      "\n",
      "Kingdom 3 Name: Karkoth\n",
      "Kingdom 3 Description: Karkoth is a harsh and unforgiving kingdom, built upon the rugged back of the dragon, Krael the Devourer. Its people are hardened warriors, adapted to the brutal landscape shaped by the dragon's fierce movements. Lord Commander Thrain the Unrelenting leads Karkoth with an iron fist, his people bound together by a shared history of struggle and conquest.\n"
     ]
    }
   ],
   "source": [
    "kingdoms_output = output.choices[0].message.content\n",
    "print(kingdoms_output)"
   ]
  },
  {
   "cell_type": "code",
   "execution_count": 87,
   "metadata": {},
   "outputs": [
    {
     "name": "stdout",
     "output_type": "stream",
     "text": [
      "Created kingdom \"Emberhaven\" in Drakonaria\n",
      "Created kingdom \"Kyrovia\" in Drakonaria\n",
      "Created kingdom \"Karkoth\" in Drakonaria\n",
      "Created kingdom \"Emberhaven\" in Drakonaria\n",
      "Created kingdom \"Kyrovia\" in Drakonaria\n",
      "Created kingdom \"Karkoth\" in Drakonaria\n",
      "Created kingdom \"Emberhaven\" in Drakonaria\n",
      "Created kingdom \"Kyrovia\" in Drakonaria\n",
      "Created kingdom \"Karkoth\" in Drakonaria\n",
      "\n",
      "Kingdom 1 Description: Karkoth is a harsh and unforgiving kingdom, built upon the rugged back of the dragon, Krael the Devourer. Its people are hardened warriors, adapted to the brutal landscape shaped by the dragon's fierce movements. Lord Commander Thrain the Unrelenting leads Karkoth with an iron fist, his people bound together by a shared history of struggle and conquest.\n"
     ]
    }
   ],
   "source": [
    "kingdoms = {}\n",
    "for output in kingdoms_output.split('\\n\\n'):\n",
    "    for output in kingdoms_output.split('\\n\\n'):\n",
    "        kingdom_name = output.strip().split('\\n')[0] \\\n",
    "            .split('Name: ')[1].strip()\n",
    "        print(f'Created kingdom \"{kingdom_name}\" in {world[\"name\"]}')\n",
    "        kingdom_description = output.strip().split('\\n')[1] \\\n",
    "            .split('Description: ')[1].strip()\n",
    "        kingdom = {\n",
    "            \"name\": kingdom_name,\n",
    "            \"description\": kingdom_description,\n",
    "            \"world\": world['name']\n",
    "        }\n",
    "        kingdoms[kingdom_name] = kingdom\n",
    "world['kingdoms'] = kingdoms\n",
    "\n",
    "print(f'\\nKingdom 1 Description: \\\n",
    "{kingdom[\"description\"]}')"
   ]
  },
  {
   "cell_type": "markdown",
   "metadata": {},
   "source": [
    "# Generating Towns"
   ]
  },
  {
   "cell_type": "code",
   "execution_count": 92,
   "metadata": {},
   "outputs": [],
   "source": [
    "def get_town_prompt(world, kingdom):\n",
    "    return f\"\"\"\n",
    "    Create 3 different towns inspired by the Game of Thrones world for a fantasy kingdom and world. Describe the region they are in, important places within the town, and intriguing history that aligns with the politics, cultures, or legends of Westeros.\n",
    "    \n",
    "    Output content in the form and no additional text:\n",
    "    Town 1 Name: <TOWN NAME>\n",
    "    Town 1 Description: <TOWN DESCRIPTION>\n",
    "    Town 2 Name: <TOWN NAME>\n",
    "    Town 2 Description: <TOWN DESCRIPTION>\n",
    "    Town 3 Name: <TOWN NAME>\n",
    "    Town 3 Description: <TOWN DESCRIPTION>\n",
    "    \n",
    "    World Name: {world['name']}\n",
    "    World Description: {world['description']}\n",
    "    \n",
    "    Kingdom Name: {kingdom['name']}\n",
    "    Kingdom Description {kingdom['description']}\n",
    "    \n",
    "    \"\"\""
   ]
  },
  {
   "cell_type": "code",
   "execution_count": 93,
   "metadata": {},
   "outputs": [],
   "source": [
    "def create_towns(world, kingdom):\n",
    "    print(f'\\nCreating towns for kingdom: {kingdom[\"name\"]}...')\n",
    "    output = client.chat.completions.create(\n",
    "      model=\"meta-llama/Llama-3-70b-chat-hf\",\n",
    "      messages=[\n",
    "          {\"role\": \"system\", \"content\": system_prompt},\n",
    "          {\"role\": \"user\", \"content\": get_town_prompt(world, kingdom)}\n",
    "      ],\n",
    "  )\n",
    "    towns_output = output.choices[0].message.content\n",
    "    \n",
    "    towns = {}\n",
    "    for output in towns_output.split('\\n\\n'):\n",
    "        town_name = output.strip().split('\\n')[0]\\\n",
    "        .split('Name: ')[1].strip()\n",
    "        print(f'- {town_name} created')\n",
    "        \n",
    "        town_description = output.strip().split('\\n')[1]\\\n",
    "        .split('Description: ')[1].strip()\n",
    "        \n",
    "        town = {\n",
    "          \"name\": town_name,\n",
    "          \"description\": town_description,\n",
    "          \"world\": world['name'],\n",
    "          \"kingdom\": kingdom['name']\n",
    "        }\n",
    "        towns[town_name] = town\n",
    "    kingdom[\"towns\"] = towns"
   ]
  },
  {
   "cell_type": "code",
   "execution_count": 94,
   "metadata": {},
   "outputs": [
    {
     "name": "stdout",
     "output_type": "stream",
     "text": [
      "\n",
      "Creating towns for kingdom: Emberhaven...\n",
      "- Dragon's Watch created\n",
      "- Emberbrook created\n",
      "- Blackstone created\n",
      "\n",
      "Creating towns for kingdom: Kyrovia...\n",
      "- Eldrida created\n",
      "- Drakon's Spire created\n",
      "- Emberhaven created\n",
      "\n",
      "Creating towns for kingdom: Karkoth...\n",
      "- Kragnir created\n",
      "- Emberhaven created\n",
      "- Ravenhollow created\n",
      "\n",
      "Town 1 Description: Kragnir is a fortified town nestled in the rocky valleys of Karkoth, where the dragon's claws have carved out a natural stronghold. The town is home to the legendary Kragnir's Forge, where master blacksmiths craft the finest steel weapons in the realm. Kragnir's history is marked by its role as a key military outpost, defending Karkoth's borders against the rival kingdom of Vorga.\n"
     ]
    }
   ],
   "source": [
    "for kingdom in kingdoms.values():\n",
    "    create_towns(world, kingdom)  \n",
    "\n",
    "town = list(kingdom['towns'].values())[0]\n",
    "print(f'\\nTown 1 Description: \\\n",
    "{town[\"description\"]}')"
   ]
  },
  {
   "cell_type": "code",
   "execution_count": 98,
   "metadata": {},
   "outputs": [],
   "source": [
    "def get_npc_prompt(world, kingdom, town): \n",
    "    return f\"\"\"\n",
    "    Create 3 different characters inspired by the Game of Thrones world, based on the world, kingdom, and town they inhabit. Describe the character's appearance and profession, as well as their deeper pains and desires, reflecting the complex personalities, ambitions, and struggles typical of Westeros.\n",
    "    \n",
    "    Output content in the form and no additional text:\n",
    "    Character 1 Name: <CHARACTER NAME>\n",
    "    Character 1 Description: <CHARACTER DESCRIPTION>\n",
    "    Character 2 Name: <CHARACTER NAME>\n",
    "    Character 2 Description: <CHARACTER DESCRIPTION>\n",
    "    Character 3 Name: <CHARACTER NAME>\n",
    "    Character 3 Description: <CHARACTER DESCRIPTION>\n",
    "    \n",
    "    World Name: {world['name']}\n",
    "    World Description: {world['description']}\n",
    "    \n",
    "    Kingdom Name: {kingdom['name']}\n",
    "    Kingdom Description: {kingdom['description']}\n",
    "    \n",
    "    Town Name: {town['name']}\n",
    "    Town Description: {town['description']}\n",
    "    \n",
    "    \"\"\""
   ]
  },
  {
   "cell_type": "code",
   "execution_count": 99,
   "metadata": {},
   "outputs": [],
   "source": [
    "def create_npcs(world, kingdom, town):\n",
    "    print(f'\\nCreating characters for the town of: {town[\"name\"]}...')\n",
    "    output = client.chat.completions.create(\n",
    "        model=\"meta-llama/Llama-3-70b-chat-hf\",\n",
    "        messages=[\n",
    "            {\"role\": \"system\", \"content\": system_prompt},\n",
    "            {\"role\": \"user\", \"content\": get_npc_prompt(world, kingdom, town)}\n",
    "        ],\n",
    "        temperature=1  #added to generate unique names\n",
    "    )\n",
    "\n",
    "    npcs_output = output.choices[0].message.content\n",
    "    npcs = {}\n",
    "    for output in npcs_output.split('\\n\\n'):\n",
    "        npc_name = output.strip().split('\\n')[0]\\\n",
    "        .split('Name: ')[1].strip()\n",
    "        print(f'- \"{npc_name}\" created')\n",
    "        \n",
    "        npc_description = output.strip().split('\\n')[1\\\n",
    "        ].split('Description: ')[1].strip()\n",
    "        \n",
    "        npc = {\n",
    "        \"name\": npc_name,\n",
    "        \"description\": npc_description,\n",
    "        \"world\": world['name'],\n",
    "        \"kingdom\": kingdom['name'],\n",
    "        \"town\": town['name']\n",
    "        }\n",
    "        npcs[npc_name] = npc\n",
    "    town[\"npcs\"] = npcs"
   ]
  },
  {
   "cell_type": "code",
   "execution_count": 100,
   "metadata": {},
   "outputs": [
    {
     "name": "stdout",
     "output_type": "stream",
     "text": [
      "\n",
      "Creating characters for the town of: Dragon's Watch...\n",
      "- \"Eira Shadowglow\" created\n",
      "- \"Lyra Stonefist\" created\n",
      "- \"Kael Darkfire\" created\n",
      "\n",
      "Creating characters for the town of: Emberbrook...\n",
      "- \"Kaelin Darkfire\" created\n",
      "- \"Lyra Moonwhisper\" created\n",
      "- \"Captain Ryker Darksong\" created\n",
      "\n",
      "Creating characters for the town of: Blackstone...\n",
      "- \"Eira Stoneforged\" created\n",
      "- \"Kael Darkhunter\" created\n",
      "- \"Thrain Dragonrider\" created\n"
     ]
    }
   ],
   "source": [
    "for kingdom in kingdoms.values():\n",
    "    for town in kingdom['towns'].values():\n",
    "        create_npcs(world, kingdom, town)\n",
    "  # For now we'll only generate npcs for one kingdom\n",
    "    break"
   ]
  },
  {
   "cell_type": "code",
   "execution_count": 101,
   "metadata": {},
   "outputs": [
    {
     "name": "stdout",
     "output_type": "stream",
     "text": [
      "\n",
      "NPC 1 in Blackstone, Emberhaven:\n",
      "Eira is a sturdy-built blacksmith from Emberhaven, with arms strong from hammering hot metal and hair as fiery as the dragon's flames. She wears a leather apron over her chainmail, and her eyes gleam with a fierce determination. Eira's pain lies in her inability to forge a blade worthy of King Arin's approval, and her desire is to create a legendary sword that will protect the kingdom from the gathering darkness.\n"
     ]
    }
   ],
   "source": [
    "npc = list(town['npcs'].values())[0]\n",
    "\n",
    "print(f'\\nNPC 1 in {town[\"name\"]}, \\\n",
    "{kingdom[\"name\"]}:\\n{npc[\"description\"]}')"
   ]
  },
  {
   "cell_type": "markdown",
   "metadata": {},
   "source": [
    "# Save the World"
   ]
  },
  {
   "cell_type": "code",
   "execution_count": 102,
   "metadata": {},
   "outputs": [],
   "source": [
    "import json\n",
    "\n",
    "def save_world(world, filename):\n",
    "    with open(filename, 'w') as f:\n",
    "        json.dump(world, f)\n",
    "\n",
    "def load_world(filename):\n",
    "    with open(filename, 'r') as f:\n",
    "        return json.load(f)\n",
    "\n",
    "#save_world(world, '../shared_data/Kyropeia.json')\n",
    "save_world(world, './data/Westeros.json') #save to your version"
   ]
  },
  {
   "cell_type": "code",
   "execution_count": 103,
   "metadata": {},
   "outputs": [
    {
     "data": {
      "text/plain": [
       "3"
      ]
     },
     "execution_count": 103,
     "metadata": {},
     "output_type": "execute_result"
    }
   ],
   "source": [
    "len(kingdoms)"
   ]
  },
  {
   "cell_type": "code",
   "execution_count": null,
   "metadata": {},
   "outputs": [],
   "source": []
  }
 ],
 "metadata": {
  "kernelspec": {
   "display_name": "Python 3",
   "language": "python",
   "name": "python3"
  },
  "language_info": {
   "codemirror_mode": {
    "name": "ipython",
    "version": 3
   },
   "file_extension": ".py",
   "mimetype": "text/x-python",
   "name": "python",
   "nbconvert_exporter": "python",
   "pygments_lexer": "ipython3",
   "version": "3.11.10"
  }
 },
 "nbformat": 4,
 "nbformat_minor": 2
}
