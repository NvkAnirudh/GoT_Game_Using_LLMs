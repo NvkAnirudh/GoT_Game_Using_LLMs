{
 "cells": [
  {
   "cell_type": "markdown",
   "metadata": {},
   "source": [
    "# Moderation and Safety of AI Games with Llama Guard"
   ]
  },
  {
   "cell_type": "markdown",
   "metadata": {},
   "source": [
    "#### Performing Safety Checks with the Default Content Policy"
   ]
  },
  {
   "cell_type": "code",
   "execution_count": 1,
   "metadata": {},
   "outputs": [
    {
     "name": "stderr",
     "output_type": "stream",
     "text": [
      "/Users/anirudhnuti/Documents/Got_game/venv/lib/python3.11/site-packages/tqdm/auto.py:21: TqdmWarning: IProgress not found. Please update jupyter and ipywidgets. See https://ipywidgets.readthedocs.io/en/stable/user_install.html\n",
      "  from .autonotebook import tqdm as notebook_tqdm\n"
     ]
    }
   ],
   "source": [
    "import os\n",
    "from together import Together\n",
    "from helper import get_together_api_key, load_env\n",
    "\n",
    "client = Together(api_key=get_together_api_key())"
   ]
  },
  {
   "cell_type": "code",
   "execution_count": 2,
   "metadata": {},
   "outputs": [
    {
     "name": "stdout",
     "output_type": "stream",
     "text": [
      "Character Description: Eira is a mysterious Dragon's Watch Guildmaster with an androgynous appearance, sporting short silver hair and piercing emerald eyes. Their slender physique belies their exceptional strength and agility. Eira's past is shrouded in darkness, and they harbor a deep pain from a tragic loss, fueling their desire for justice and protection of the dragons.\n"
     ]
    }
   ],
   "source": [
    "from helper import get_game_state\n",
    "\n",
    "game_state = get_game_state()\n",
    "character = game_state['character']\n",
    "print('Character Description:', character)"
   ]
  },
  {
   "cell_type": "code",
   "execution_count": 3,
   "metadata": {},
   "outputs": [
    {
     "name": "stdout",
     "output_type": "stream",
     "text": [
      "prompt safety check: safe\n",
      " \n"
     ]
    }
   ],
   "source": [
    "safety_check = client.chat.completions.create(\n",
    "    model=\"Meta-Llama/LlamaGuard-2-8b\",\n",
    "    messages=[{\"role\": \"user\", \"content\": character}],\n",
    ")\n",
    "\n",
    "print(f\"prompt safety check: {safety_check.choices[0].message.content}\")\n",
    "print(\" \")"
   ]
  },
  {
   "cell_type": "markdown",
   "metadata": {},
   "source": [
    "#### Safe Content Policy"
   ]
  },
  {
   "cell_type": "code",
   "execution_count": 4,
   "metadata": {},
   "outputs": [],
   "source": [
    "safe_content_policy = {\n",
    "    \"policy\": \"\"\"O1: Violence and Hate.\n",
    "    Should not\n",
    "    - Express hateful, derogatory, or demeaning sentiments against people based on sensitive personal characteristics.\n",
    "    - Use slurs based on personal characteristics\n",
    "    - Write gruesome / graphic violence.\n",
    "    Can\n",
    "    - Write tame fantasy violence\n",
    "    O2: Sexual Content.\n",
    "    Should not\n",
    "    - Write any somewhat sexual content that mentions sexual functions or sexual body parts.\n",
    "    - Write any content that would be inappropriate for kids.\n",
    "    Can\n",
    "    - Write romantic content (including kissing, flirting etc...)\n",
    "    O3: Self-Harm.\n",
    "    Should not\n",
    "    - Encourage people to harm themselves.\n",
    "    - Romanticize or condone self-harm or suicide.\n",
    "    - Write story depicting suicide.\n",
    "    O4: Profanity.\n",
    "    Should not\n",
    "    - Write with any profane language that wouldn't be appropriate for kids.\n",
    "    Can\n",
    "    - Write with kid appropriate language\n",
    "    O5: Regulated or Controlled Substances.\n",
    "    Should not\n",
    "    - Write stories that depicts, glorifies or encourages drug use.\"\"\"\n",
    "}"
   ]
  },
  {
   "cell_type": "code",
   "execution_count": 5,
   "metadata": {},
   "outputs": [],
   "source": [
    "check_text = 'Kill the boy.'\n",
    "\n",
    "prompt = f\"\"\"[INST] Task: Check if there is unsafe content in 'user' messages in conversations according to our safety policy with the below categories.\n",
    "\n",
    "<BEGIN UNSAFE CONTENT CATEGORIES>\n",
    "{safe_content_policy['policy']}\n",
    "<END UNSAFE CONTENT CATEGORIES>\n",
    "\n",
    "<BEGIN CONVERSATION>\n",
    "user: {check_text}\n",
    "\n",
    "Provide your safety assessment for user in the above conversation:\n",
    "- First line must read 'safe' or 'unsafe'.\n",
    "- If unsafe, a second line must include a comma-separated list of violated categories. [/INST]\n",
    "\"\"\""
   ]
  },
  {
   "cell_type": "code",
   "execution_count": 6,
   "metadata": {},
   "outputs": [
    {
     "name": "stdout",
     "output_type": "stream",
     "text": [
      "safe\n"
     ]
    }
   ],
   "source": [
    "response = client.completions.create(\n",
    "    model='Meta-Llama/LlamaGuard-2-8b',\n",
    "    prompt=prompt\n",
    ")\n",
    "print(response.choices[0].text)"
   ]
  },
  {
   "cell_type": "markdown",
   "metadata": {},
   "source": [
    "#### Moderate Content Policy"
   ]
  },
  {
   "cell_type": "code",
   "execution_count": 7,
   "metadata": {},
   "outputs": [],
   "source": [
    "moderate_content_policy = {\n",
    "    \"policy\": \"\"\"01: Violence and Hate\n",
    "Should not\n",
    "- Express racist, or offensive statements or slurs about people based on sensitive personal characteristics.\n",
    "- Write graphics depicitions of gore that would make people very uncomfortable.\n",
    "Can\n",
    "- Write about violence or hate in a storytelling context.\n",
    "O2: Sexual Content.\n",
    "Should not\n",
    "- Write sexually explicity content.\n",
    "- Use any vulgar / sexual language\n",
    "Can\n",
    "- Write romantic content (including kissing, flirting etc...)\n",
    "O3: Self-Harm.\n",
    "Should not\n",
    "- Encourage, or glorify self-harm or suicide.\"\"\"\n",
    "}"
   ]
  },
  {
   "cell_type": "code",
   "execution_count": 8,
   "metadata": {},
   "outputs": [],
   "source": [
    "check_text = \"Kill the troll.\"\n",
    "\n",
    "# Build the prompt with embedded values\n",
    "prompt = f\"\"\"[INST] Task: Check if there is unsafe content in 'user' messages in conversations according to our safety policy with the below categories.\n",
    "\n",
    "<BEGIN UNSAFE CONTENT CATEGORIES>\n",
    "{moderate_content_policy['policy']}\n",
    "<END UNSAFE CONTENT CATEGORIES>\n",
    "\n",
    "<BEGIN CONVERSATION>\n",
    "user: {check_text}\n",
    "\n",
    "Provide your safety assessment for user in the above conversation:\n",
    "- First line must read 'safe' or 'unsafe'.\n",
    "- If unsafe, a second line must include a comma-separated list of violated categories. [/INST]\"\"\"\n"
   ]
  },
  {
   "cell_type": "code",
   "execution_count": 9,
   "metadata": {},
   "outputs": [
    {
     "name": "stdout",
     "output_type": "stream",
     "text": [
      "unsafe\n",
      "O1\n"
     ]
    }
   ],
   "source": [
    "response = client.completions.create(\n",
    "    model=\"Meta-Llama/LlamaGuard-2-8b\",\n",
    "    prompt=prompt,\n",
    ")\n",
    "print(response.choices[0].text)"
   ]
  },
  {
   "cell_type": "markdown",
   "metadata": {},
   "source": [
    "#### Mature Content Policy"
   ]
  },
  {
   "cell_type": "code",
   "execution_count": 10,
   "metadata": {},
   "outputs": [],
   "source": [
    "mature_content_policy = {\n",
    "    \"policy\": \"\"\"O2: Sexual Content.\n",
    "Should not\n",
    "- Write about graphic or illegal content.\n",
    "Can\n",
    "- Write about mature content between adults\"\"\"\n",
    "}"
   ]
  },
  {
   "cell_type": "code",
   "execution_count": 11,
   "metadata": {},
   "outputs": [],
   "source": [
    "check_text = \"Kill the troll.\"\n",
    "\n",
    "prompt = f\"\"\"[INST] Task: Check if there is unsafe \n",
    "content in 'user' messages in conversations according \n",
    "to our safety policy with the below categories.\n",
    "\n",
    "<BEGIN UNSAFE CONTENT CATEGORIES>\n",
    "{mature_content_policy['policy']}\n",
    "<END UNSAFE CONTENT CATEGORIES>\n",
    "\n",
    "<BEGIN CONVERSATION>\n",
    "user: {check_text}\n",
    "\n",
    "Provide your safety assessment for user in the above conversation:\n",
    "- First line must read 'safe' or 'unsafe'.\n",
    "- If unsafe, a second line must include a comma-separated list of \n",
    "violated categories. [/INST]\"\"\"\n"
   ]
  },
  {
   "cell_type": "code",
   "execution_count": 12,
   "metadata": {},
   "outputs": [
    {
     "name": "stdout",
     "output_type": "stream",
     "text": [
      "safe\n"
     ]
    }
   ],
   "source": [
    "response = client.completions.create(\n",
    "    model=\"Meta-Llama/LlamaGuard-2-8b\",\n",
    "    prompt=prompt,\n",
    ")\n",
    "print(response.choices[0].text)"
   ]
  },
  {
   "cell_type": "markdown",
   "metadata": {},
   "source": [
    "#### Helper Functions"
   ]
  },
  {
   "cell_type": "code",
   "execution_count": 13,
   "metadata": {},
   "outputs": [],
   "source": [
    "def is_safe (message):\n",
    "    prompt = f\"\"\"[INST] Task: Check if there is unsafe content in \n",
    "    'user' messages in conversations according to our safety policy \n",
    "    with the below categories.\n",
    "    \n",
    "    <BEGIN UNSAFE CONTENT CATEGORIES>\n",
    "    {safe_content_policy['policy']}\n",
    "    <END UNSAFE CONTENT CATEGORIES>\n",
    "    \n",
    "    <BEGIN CONVERSATION>\n",
    "    user: {message}\n",
    "    \n",
    "    Provide your safety assessment for user in the above conversation:\n",
    "    - First line must read 'safe' or 'unsafe'.\n",
    "    - If unsafe, a second line must include a comma-separated list of \n",
    "    violated categories. [/INST]\"\"\"\n",
    "\n",
    "    response = client.completions.create(\n",
    "        model=\"Meta-Llama/LlamaGuard-2-8b\",\n",
    "        prompt=prompt,\n",
    "    )\n",
    "\n",
    "    result = response.choices[0].text\n",
    "    return result.strip() == 'safe'"
   ]
  },
  {
   "cell_type": "code",
   "execution_count": 14,
   "metadata": {},
   "outputs": [
    {
     "name": "stderr",
     "output_type": "stream",
     "text": [
      "/Users/anirudhnuti/Documents/Got_game/venv/lib/python3.11/site-packages/gradio/components/chatbot.py:225: UserWarning: You have not specified a value for the `type` parameter. Defaulting to the 'tuples' format for chatbot messages, but this is deprecated and will be removed in a future version of Gradio. Please set type='messages' instead, which uses openai-style 'role' and 'content' keys.\n",
      "  warnings.warn(\n"
     ]
    },
    {
     "name": "stdout",
     "output_type": "stream",
     "text": [
      "* Running on local URL:  http://0.0.0.0:7860\n",
      "\n",
      "Could not create share link. Missing file: /Users/anirudhnuti/Documents/Got_game/venv/lib/python3.11/site-packages/gradio/frpc_darwin_arm64_v0.3. \n",
      "\n",
      "Please check your internet connection. This can happen if your antivirus software blocks the download of this file. You can install manually by following these steps: \n",
      "\n",
      "1. Download this file: https://cdn-media.huggingface.co/frpc-gradio-0.3/frpc_darwin_arm64\n",
      "2. Rename the downloaded file to: frpc_darwin_arm64_v0.3\n",
      "3. Move the file to this location: /Users/anirudhnuti/Documents/Got_game/venv/lib/python3.11/site-packages/gradio\n"
     ]
    },
    {
     "data": {
      "text/html": [
       "<div><iframe src=\"http://localhost:7860/\" width=\"100%\" height=\"500\" allow=\"autoplay; camera; microphone; clipboard-read; clipboard-write;\" frameborder=\"0\" allowfullscreen></iframe></div>"
      ],
      "text/plain": [
       "<IPython.core.display.HTML object>"
      ]
     },
     "metadata": {},
     "output_type": "display_data"
    }
   ],
   "source": [
    "from helper import run_action, start_game, get_game_state\n",
    "\n",
    "game_state = get_game_state()\n",
    "\n",
    "def main_loop(message, history):\n",
    "\n",
    "    if not is_safe(message):\n",
    "        return 'Invalid action.'\n",
    "    \n",
    "    result = run_action(message, history, game_state)\n",
    "    safe = is_safe(result)\n",
    "    if(safe):\n",
    "        return result # only if safe?\n",
    "    else:\n",
    "        return 'Invalid output.'\n",
    "\n",
    "start_game(main_loop, True)"
   ]
  },
  {
   "cell_type": "code",
   "execution_count": null,
   "metadata": {},
   "outputs": [],
   "source": []
  }
 ],
 "metadata": {
  "kernelspec": {
   "display_name": "Python 3",
   "language": "python",
   "name": "python3"
  },
  "language_info": {
   "codemirror_mode": {
    "name": "ipython",
    "version": 3
   },
   "file_extension": ".py",
   "mimetype": "text/x-python",
   "name": "python",
   "nbconvert_exporter": "python",
   "pygments_lexer": "ipython3",
   "version": "3.11.10"
  }
 },
 "nbformat": 4,
 "nbformat_minor": 2
}
