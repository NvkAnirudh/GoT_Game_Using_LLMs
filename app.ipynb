{
 "cells": [
  {
   "cell_type": "code",
   "execution_count": 3,
   "metadata": {},
   "outputs": [],
   "source": [
    "import gradio as gr\n",
    "import os\n"
   ]
  },
  {
   "cell_type": "markdown",
   "metadata": {},
   "source": [
    "# Demo"
   ]
  },
  {
   "cell_type": "code",
   "execution_count": 24,
   "metadata": {},
   "outputs": [
    {
     "name": "stderr",
     "output_type": "stream",
     "text": [
      "/Users/anirudhnuti/Documents/Got_game/venv/lib/python3.11/site-packages/gradio/components/chatbot.py:225: UserWarning: You have not specified a value for the `type` parameter. Defaulting to the 'tuples' format for chatbot messages, but this is deprecated and will be removed in a future version of Gradio. Please set type='messages' instead, which uses openai-style 'role' and 'content' keys.\n",
      "  warnings.warn(\n",
      "ERROR:    [Errno 48] error while attempting to bind on address ('0.0.0.0', 7860): address already in use\n"
     ]
    },
    {
     "name": "stdout",
     "output_type": "stream",
     "text": [
      "* Running on local URL:  http://0.0.0.0:7861\n",
      "\n",
      "To create a public link, set `share=True` in `launch()`.\n"
     ]
    },
    {
     "data": {
      "text/html": [
       "<div><iframe src=\"http://localhost:7861/\" width=\"100%\" height=\"500\" allow=\"autoplay; camera; microphone; clipboard-read; clipboard-write;\" frameborder=\"0\" allowfullscreen></iframe></div>"
      ],
      "text/plain": [
       "<IPython.core.display.HTML object>"
      ]
     },
     "metadata": {},
     "output_type": "display_data"
    }
   ],
   "source": [
    "def start_game(main_loop, share=False):\n",
    "\n",
    "    demo = gr.ChatInterface(\n",
    "        main_loop,\n",
    "        chatbot=gr.Chatbot(height=250, placeholder=\"Type 'start game' to begin\"),\n",
    "        textbox=gr.Textbox(placeholder='What do you do next?', container=False, scale=7),\n",
    "        title='AI RPG',\n",
    "        theme='soft',\n",
    "        examples=['Look Around', 'Continue the story'],\n",
    "        cache_examples=False\n",
    "    )\n",
    "\n",
    "    demo.launch(share=share, server_name='0.0.0.0')\n",
    "\n",
    "def test_main_loop(message, history):\n",
    "    return 'Entered Action: '+message\n",
    "\n",
    "start_game(test_main_loop)"
   ]
  },
  {
   "cell_type": "markdown",
   "metadata": {},
   "source": [
    "# Generating an Initial Start"
   ]
  },
  {
   "cell_type": "code",
   "execution_count": 16,
   "metadata": {},
   "outputs": [],
   "source": [
    "from helper import load_world, save_world, get_together_api_key, load_env\n",
    "from together import Together\n",
    "\n",
    "client = Together(api_key=get_together_api_key())\n",
    "\n",
    "world = load_world('./data/Westeros.json')\n",
    "kingdom = world['kingdoms']['Emberhaven']\n",
    "town = kingdom['towns'][\"Dragon's Watch\"]\n",
    "character = town['npcs']['Eira Shadowglow']"
   ]
  },
  {
   "cell_type": "code",
   "execution_count": 17,
   "metadata": {},
   "outputs": [],
   "source": [
    "system_prompt = \"\"\"You are an AI Game master. Your job is to create a \n",
    "start to an adventure based on the world, kingdom, town and character \n",
    "a player is playing as. \n",
    "Instructions:\n",
    "You must only use 2-4 sentences \\\n",
    "Write in second person. For example: \"You are Jack\" \\\n",
    "Write in present tense. For example \"You stand at...\" \\\n",
    "First describe the character and their backstory. \\\n",
    "Then describes where they start and what they see around them.\"\"\"\n",
    "\n",
    "world_info = f\"\"\"\n",
    "World: {world}\n",
    "Kingdom: {kingdom}\n",
    "Town: {town}\n",
    "Your Character: {character}\n",
    "\"\"\""
   ]
  },
  {
   "cell_type": "code",
   "execution_count": 18,
   "metadata": {},
   "outputs": [],
   "source": [
    "model_output = client.chat.completions.create(\n",
    "    model='meta-llama/Llama-3-70b-chat-hf',\n",
    "    temperature=1.0,\n",
    "    messages=[\n",
    "        {'role':'system', 'content':system_prompt},\n",
    "        {'role':'user', 'content':world_info+'\\n Your Start:'}\n",
    "    ]\n",
    ")"
   ]
  },
  {
   "cell_type": "code",
   "execution_count": 19,
   "metadata": {},
   "outputs": [
    {
     "name": "stdout",
     "output_type": "stream",
     "text": [
      "You stand atop the northern battlements of Dragon's Watch, the wind whipping your short silver hair into a frenzy as you gaze out upon the Wyrmbreaker Mountains. The sun is setting, casting a warm orange glow over the rugged landscape, and you can't help but feel a sense of unease settling in the pit of your stomach. As a Guildmaster of the esteemed Dragon's Watch, you've dedicated your life to understanding and protecting the ancient beasts that roam Drakonaria. But with the recent rumors of dark magic and whispers of conspiracy, you can't shake the feeling that something is amiss.\n"
     ]
    }
   ],
   "source": [
    "start = model_output.choices[0].message.content\n",
    "print(start)"
   ]
  },
  {
   "cell_type": "code",
   "execution_count": 20,
   "metadata": {},
   "outputs": [],
   "source": [
    "# Save the start\n",
    "world['start'] = start\n",
    "save_world(world, './data/Westeros.json')"
   ]
  },
  {
   "cell_type": "markdown",
   "metadata": {},
   "source": [
    "# Creating the Main Action Loop"
   ]
  },
  {
   "cell_type": "code",
   "execution_count": 21,
   "metadata": {},
   "outputs": [],
   "source": [
    "def run_action(message, history, game_state):\n",
    "    if message == 'start_game':\n",
    "        return game_state['start']\n",
    "\n",
    "    system_prompt = \"\"\"You are an AI Game master. Your job is to write what \\\n",
    "happens next in a player's adventure game.\\\n",
    "Instructions: \\\n",
    "You must on only write 1-3 sentences in response. \\\n",
    "Always write in second person present tense. \\\n",
    "Ex. (You look north and see...)\"\"\"\n",
    "\n",
    "    world_info = f\"\"\"\n",
    "    World: {game_state['world']}\n",
    "    Kingdom: {game_state['kingdom']}\n",
    "    Town: {game_state['town']}\n",
    "    Your Character: {game_state['character']}\"\"\"\n",
    "\n",
    "    messages = [\n",
    "        {'role':'system', 'content':system_prompt},\n",
    "        {'role':'user', 'content':world_info}\n",
    "    ]\n",
    "\n",
    "    for action in history:\n",
    "        messages.append({'role':'assistant', 'content':action[0]})\n",
    "        messages.append({'role':'user', 'content':action[1]})\n",
    "    \n",
    "    messages.append({'role':'user', 'content':message})\n",
    "    model_output = client.chat.completions.create(\n",
    "        model=\"meta-llama/Llama-3-70b-chat-hf\",\n",
    "        messages=messages\n",
    "    )\n",
    "    \n",
    "    result = model_output.choices[0].message.content\n",
    "    return result"
   ]
  },
  {
   "cell_type": "code",
   "execution_count": 22,
   "metadata": {},
   "outputs": [],
   "source": [
    "game_state = {\n",
    "    \"world\": world['description'],\n",
    "    \"kingdom\": kingdom['description'],\n",
    "    \"town\": town['description'],\n",
    "    \"character\": character['description'],\n",
    "    \"start\": start,\n",
    "}\n",
    "\n",
    "def main_loop(message, history):\n",
    "    return run_action(message, history, game_state)"
   ]
  },
  {
   "cell_type": "code",
   "execution_count": 25,
   "metadata": {},
   "outputs": [
    {
     "name": "stderr",
     "output_type": "stream",
     "text": [
      "/Users/anirudhnuti/Documents/Got_game/venv/lib/python3.11/site-packages/gradio/components/chatbot.py:225: UserWarning: You have not specified a value for the `type` parameter. Defaulting to the 'tuples' format for chatbot messages, but this is deprecated and will be removed in a future version of Gradio. Please set type='messages' instead, which uses openai-style 'role' and 'content' keys.\n",
      "  warnings.warn(\n",
      "ERROR:    [Errno 48] error while attempting to bind on address ('0.0.0.0', 7860): address already in use\n",
      "ERROR:    [Errno 48] error while attempting to bind on address ('0.0.0.0', 7861): address already in use\n"
     ]
    },
    {
     "name": "stdout",
     "output_type": "stream",
     "text": [
      "* Running on local URL:  http://0.0.0.0:7862\n",
      "\n",
      "Could not create share link. Missing file: /Users/anirudhnuti/Documents/Got_game/venv/lib/python3.11/site-packages/gradio/frpc_darwin_arm64_v0.3. \n",
      "\n",
      "Please check your internet connection. This can happen if your antivirus software blocks the download of this file. You can install manually by following these steps: \n",
      "\n",
      "1. Download this file: https://cdn-media.huggingface.co/frpc-gradio-0.3/frpc_darwin_arm64\n",
      "2. Rename the downloaded file to: frpc_darwin_arm64_v0.3\n",
      "3. Move the file to this location: /Users/anirudhnuti/Documents/Got_game/venv/lib/python3.11/site-packages/gradio\n"
     ]
    },
    {
     "data": {
      "text/html": [
       "<div><iframe src=\"http://localhost:7862/\" width=\"100%\" height=\"500\" allow=\"autoplay; camera; microphone; clipboard-read; clipboard-write;\" frameborder=\"0\" allowfullscreen></iframe></div>"
      ],
      "text/plain": [
       "<IPython.core.display.HTML object>"
      ]
     },
     "metadata": {},
     "output_type": "display_data"
    }
   ],
   "source": [
    "start_game(main_loop, True)"
   ]
  },
  {
   "cell_type": "code",
   "execution_count": null,
   "metadata": {},
   "outputs": [],
   "source": []
  }
 ],
 "metadata": {
  "kernelspec": {
   "display_name": "Python 3",
   "language": "python",
   "name": "python3"
  },
  "language_info": {
   "codemirror_mode": {
    "name": "ipython",
    "version": 3
   },
   "file_extension": ".py",
   "mimetype": "text/x-python",
   "name": "python",
   "nbconvert_exporter": "python",
   "pygments_lexer": "ipython3",
   "version": "3.11.10"
  }
 },
 "nbformat": 4,
 "nbformat_minor": 2
}
